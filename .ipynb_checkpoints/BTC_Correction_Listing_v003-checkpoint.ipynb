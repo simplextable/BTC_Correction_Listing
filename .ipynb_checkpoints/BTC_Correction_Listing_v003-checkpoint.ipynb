{
 "cells": [
  {
   "cell_type": "code",
   "execution_count": 1,
   "metadata": {},
   "outputs": [
    {
     "name": "stderr",
     "output_type": "stream",
     "text": [
      "In D:\\ProgramFiles\\lib\\site-packages\\matplotlib\\mpl-data\\stylelib\\_classic_test.mplstyle: \n",
      "The text.latex.preview rcparam was deprecated in Matplotlib 3.3 and will be removed two minor releases later.\n",
      "In D:\\ProgramFiles\\lib\\site-packages\\matplotlib\\mpl-data\\stylelib\\_classic_test.mplstyle: \n",
      "The mathtext.fallback_to_cm rcparam was deprecated in Matplotlib 3.3 and will be removed two minor releases later.\n",
      "In D:\\ProgramFiles\\lib\\site-packages\\matplotlib\\mpl-data\\stylelib\\_classic_test.mplstyle: Support for setting the 'mathtext.fallback_to_cm' rcParam is deprecated since 3.3 and will be removed two minor releases later; use 'mathtext.fallback : 'cm' instead.\n",
      "In D:\\ProgramFiles\\lib\\site-packages\\matplotlib\\mpl-data\\stylelib\\_classic_test.mplstyle: \n",
      "The validate_bool_maybe_none function was deprecated in Matplotlib 3.3 and will be removed two minor releases later.\n",
      "In D:\\ProgramFiles\\lib\\site-packages\\matplotlib\\mpl-data\\stylelib\\_classic_test.mplstyle: \n",
      "The savefig.jpeg_quality rcparam was deprecated in Matplotlib 3.3 and will be removed two minor releases later.\n",
      "In D:\\ProgramFiles\\lib\\site-packages\\matplotlib\\mpl-data\\stylelib\\_classic_test.mplstyle: \n",
      "The keymap.all_axes rcparam was deprecated in Matplotlib 3.3 and will be removed two minor releases later.\n",
      "In D:\\ProgramFiles\\lib\\site-packages\\matplotlib\\mpl-data\\stylelib\\_classic_test.mplstyle: \n",
      "The animation.avconv_path rcparam was deprecated in Matplotlib 3.3 and will be removed two minor releases later.\n",
      "In D:\\ProgramFiles\\lib\\site-packages\\matplotlib\\mpl-data\\stylelib\\_classic_test.mplstyle: \n",
      "The animation.avconv_args rcparam was deprecated in Matplotlib 3.3 and will be removed two minor releases later.\n"
     ]
    }
   ],
   "source": [
    "import pandas as pd\n",
    "import numpy as np\n",
    "import datetime as dt\n",
    "import datetime, pytz\n",
    "import seaborn as sns\n",
    "#import plotly.graph_objects as go\n",
    "import matplotlib.pyplot as plt\n",
    "from matplotlib import pyplot"
   ]
  },
  {
   "cell_type": "code",
   "execution_count": 2,
   "metadata": {},
   "outputs": [],
   "source": [
    "# Here We Convert Minutely Data to Daily Form \n",
    "\n",
    "def dateparse (time_in_secs):    \n",
    "    \n",
    "    return pytz.utc.localize(datetime.datetime.fromtimestamp(float(time_in_secs)))"
   ]
  },
  {
   "cell_type": "markdown",
   "metadata": {},
   "source": [
    "## Reading Data and Preparation"
   ]
  },
  {
   "cell_type": "code",
   "execution_count": 3,
   "metadata": {},
   "outputs": [],
   "source": [
    "df = pd.read_csv(\"../BTC_Correction_Listing_csv/data.csv\",parse_dates=[0], date_parser=dateparse)"
   ]
  },
  {
   "cell_type": "code",
   "execution_count": 4,
   "metadata": {},
   "outputs": [
    {
     "data": {
      "text/html": [
       "<div>\n",
       "<style scoped>\n",
       "    .dataframe tbody tr th:only-of-type {\n",
       "        vertical-align: middle;\n",
       "    }\n",
       "\n",
       "    .dataframe tbody tr th {\n",
       "        vertical-align: top;\n",
       "    }\n",
       "\n",
       "    .dataframe thead th {\n",
       "        text-align: right;\n",
       "    }\n",
       "</style>\n",
       "<table border=\"1\" class=\"dataframe\">\n",
       "  <thead>\n",
       "    <tr style=\"text-align: right;\">\n",
       "      <th></th>\n",
       "      <th>Timestamp</th>\n",
       "      <th>Open</th>\n",
       "      <th>High</th>\n",
       "      <th>Low</th>\n",
       "      <th>Close</th>\n",
       "      <th>Volume_(BTC)</th>\n",
       "      <th>Volume_(Currency)</th>\n",
       "      <th>Weighted_Price</th>\n",
       "    </tr>\n",
       "  </thead>\n",
       "  <tbody>\n",
       "    <tr>\n",
       "      <td>0</td>\n",
       "      <td>2011-12-31 16:52:00+00:00</td>\n",
       "      <td>4.39</td>\n",
       "      <td>4.39</td>\n",
       "      <td>4.39</td>\n",
       "      <td>4.39</td>\n",
       "      <td>0.455581</td>\n",
       "      <td>2.0</td>\n",
       "      <td>4.39</td>\n",
       "    </tr>\n",
       "    <tr>\n",
       "      <td>1</td>\n",
       "      <td>2011-12-31 16:53:00+00:00</td>\n",
       "      <td>NaN</td>\n",
       "      <td>NaN</td>\n",
       "      <td>NaN</td>\n",
       "      <td>NaN</td>\n",
       "      <td>NaN</td>\n",
       "      <td>NaN</td>\n",
       "      <td>NaN</td>\n",
       "    </tr>\n",
       "    <tr>\n",
       "      <td>2</td>\n",
       "      <td>2011-12-31 16:54:00+00:00</td>\n",
       "      <td>NaN</td>\n",
       "      <td>NaN</td>\n",
       "      <td>NaN</td>\n",
       "      <td>NaN</td>\n",
       "      <td>NaN</td>\n",
       "      <td>NaN</td>\n",
       "      <td>NaN</td>\n",
       "    </tr>\n",
       "    <tr>\n",
       "      <td>3</td>\n",
       "      <td>2011-12-31 16:55:00+00:00</td>\n",
       "      <td>NaN</td>\n",
       "      <td>NaN</td>\n",
       "      <td>NaN</td>\n",
       "      <td>NaN</td>\n",
       "      <td>NaN</td>\n",
       "      <td>NaN</td>\n",
       "      <td>NaN</td>\n",
       "    </tr>\n",
       "    <tr>\n",
       "      <td>4</td>\n",
       "      <td>2011-12-31 16:56:00+00:00</td>\n",
       "      <td>NaN</td>\n",
       "      <td>NaN</td>\n",
       "      <td>NaN</td>\n",
       "      <td>NaN</td>\n",
       "      <td>NaN</td>\n",
       "      <td>NaN</td>\n",
       "      <td>NaN</td>\n",
       "    </tr>\n",
       "  </tbody>\n",
       "</table>\n",
       "</div>"
      ],
      "text/plain": [
       "                  Timestamp  Open  High   Low  Close  Volume_(BTC)  \\\n",
       "0 2011-12-31 16:52:00+00:00  4.39  4.39  4.39   4.39      0.455581   \n",
       "1 2011-12-31 16:53:00+00:00   NaN   NaN   NaN    NaN           NaN   \n",
       "2 2011-12-31 16:54:00+00:00   NaN   NaN   NaN    NaN           NaN   \n",
       "3 2011-12-31 16:55:00+00:00   NaN   NaN   NaN    NaN           NaN   \n",
       "4 2011-12-31 16:56:00+00:00   NaN   NaN   NaN    NaN           NaN   \n",
       "\n",
       "   Volume_(Currency)  Weighted_Price  \n",
       "0                2.0            4.39  \n",
       "1                NaN             NaN  \n",
       "2                NaN             NaN  \n",
       "3                NaN             NaN  \n",
       "4                NaN             NaN  "
      ]
     },
     "execution_count": 4,
     "metadata": {},
     "output_type": "execute_result"
    }
   ],
   "source": [
    "df.head()"
   ]
  },
  {
   "cell_type": "code",
   "execution_count": 5,
   "metadata": {},
   "outputs": [
    {
     "data": {
      "text/plain": [
       "Timestamp                  0\n",
       "Open                 1243472\n",
       "High                 1243472\n",
       "Low                  1243472\n",
       "Close                1243472\n",
       "Volume_(BTC)         1243472\n",
       "Volume_(Currency)    1243472\n",
       "Weighted_Price       1243472\n",
       "dtype: int64"
      ]
     },
     "execution_count": 5,
     "metadata": {},
     "output_type": "execute_result"
    }
   ],
   "source": [
    "df.isnull().sum()"
   ]
  },
  {
   "cell_type": "code",
   "execution_count": 6,
   "metadata": {},
   "outputs": [],
   "source": [
    "df['date'] = pd.to_datetime(df['Timestamp'], format=\"%Y-%d-%m %H:%M\")\n",
    "df['date'] = pd.to_datetime(df['date'])\n",
    "df         = df.set_index(['date'])"
   ]
  },
  {
   "cell_type": "code",
   "execution_count": 7,
   "metadata": {},
   "outputs": [
    {
     "name": "stderr",
     "output_type": "stream",
     "text": [
      "D:\\ProgramFiles\\lib\\site-packages\\ipykernel_launcher.py:1: SettingWithCopyWarning: \n",
      "A value is trying to be set on a copy of a slice from a DataFrame\n",
      "\n",
      "See the caveats in the documentation: http://pandas.pydata.org/pandas-docs/stable/user_guide/indexing.html#returning-a-view-versus-a-copy\n",
      "  \"\"\"Entry point for launching an IPython kernel.\n",
      "D:\\ProgramFiles\\lib\\site-packages\\ipykernel_launcher.py:2: SettingWithCopyWarning: \n",
      "A value is trying to be set on a copy of a slice from a DataFrame\n",
      "\n",
      "See the caveats in the documentation: http://pandas.pydata.org/pandas-docs/stable/user_guide/indexing.html#returning-a-view-versus-a-copy\n",
      "  \n"
     ]
    }
   ],
   "source": [
    "df.Low[df.Low==1.5]     = 540   # wrong data \n",
    "df.Close[df.Close==1.5] = 540   # wrong data\n",
    "df.fillna(method='ffill', inplace = True)"
   ]
  },
  {
   "cell_type": "code",
   "execution_count": 8,
   "metadata": {},
   "outputs": [],
   "source": [
    "# Close \n",
    "\n",
    "df_Close = df[[\"Close\"]]\n",
    "df_Close = df_Close.resample('D')[['Close']].last()"
   ]
  },
  {
   "cell_type": "code",
   "execution_count": 9,
   "metadata": {},
   "outputs": [],
   "source": [
    "# Low \n",
    "\n",
    "df_Low = df[[\"Low\"]]\n",
    "df_Low = df_Low.resample('D')['Low'].agg(['min'])"
   ]
  },
  {
   "cell_type": "code",
   "execution_count": 10,
   "metadata": {},
   "outputs": [],
   "source": [
    "# High\n",
    "\n",
    "df_High = df[[\"High\"]]\n",
    "df_High = df_High.resample('D')['High'].agg(['max'])"
   ]
  },
  {
   "cell_type": "code",
   "execution_count": 11,
   "metadata": {},
   "outputs": [],
   "source": [
    "df_daily = pd.concat([df_Low,df_High,df_Close],axis=1)"
   ]
  },
  {
   "cell_type": "code",
   "execution_count": 12,
   "metadata": {},
   "outputs": [
    {
     "data": {
      "text/html": [
       "<div>\n",
       "<style scoped>\n",
       "    .dataframe tbody tr th:only-of-type {\n",
       "        vertical-align: middle;\n",
       "    }\n",
       "\n",
       "    .dataframe tbody tr th {\n",
       "        vertical-align: top;\n",
       "    }\n",
       "\n",
       "    .dataframe thead th {\n",
       "        text-align: right;\n",
       "    }\n",
       "</style>\n",
       "<table border=\"1\" class=\"dataframe\">\n",
       "  <thead>\n",
       "    <tr style=\"text-align: right;\">\n",
       "      <th></th>\n",
       "      <th>min</th>\n",
       "      <th>max</th>\n",
       "      <th>Close</th>\n",
       "    </tr>\n",
       "    <tr>\n",
       "      <th>date</th>\n",
       "      <th></th>\n",
       "      <th></th>\n",
       "      <th></th>\n",
       "    </tr>\n",
       "  </thead>\n",
       "  <tbody>\n",
       "    <tr>\n",
       "      <td>2011-12-31 00:00:00+00:00</td>\n",
       "      <td>4.39</td>\n",
       "      <td>4.39</td>\n",
       "      <td>4.39</td>\n",
       "    </tr>\n",
       "    <tr>\n",
       "      <td>2012-01-01 00:00:00+00:00</td>\n",
       "      <td>4.39</td>\n",
       "      <td>4.58</td>\n",
       "      <td>4.58</td>\n",
       "    </tr>\n",
       "    <tr>\n",
       "      <td>2012-01-02 00:00:00+00:00</td>\n",
       "      <td>4.58</td>\n",
       "      <td>5.00</td>\n",
       "      <td>5.00</td>\n",
       "    </tr>\n",
       "    <tr>\n",
       "      <td>2012-01-03 00:00:00+00:00</td>\n",
       "      <td>5.00</td>\n",
       "      <td>5.32</td>\n",
       "      <td>5.26</td>\n",
       "    </tr>\n",
       "    <tr>\n",
       "      <td>2012-01-04 00:00:00+00:00</td>\n",
       "      <td>4.93</td>\n",
       "      <td>5.29</td>\n",
       "      <td>5.19</td>\n",
       "    </tr>\n",
       "  </tbody>\n",
       "</table>\n",
       "</div>"
      ],
      "text/plain": [
       "                            min   max  Close\n",
       "date                                        \n",
       "2011-12-31 00:00:00+00:00  4.39  4.39   4.39\n",
       "2012-01-01 00:00:00+00:00  4.39  4.58   4.58\n",
       "2012-01-02 00:00:00+00:00  4.58  5.00   5.00\n",
       "2012-01-03 00:00:00+00:00  5.00  5.32   5.26\n",
       "2012-01-04 00:00:00+00:00  4.93  5.29   5.19"
      ]
     },
     "execution_count": 12,
     "metadata": {},
     "output_type": "execute_result"
    }
   ],
   "source": [
    "df_daily.head()"
   ]
  },
  {
   "cell_type": "markdown",
   "metadata": {},
   "source": [
    "We took these periods to examine in this file. These Periods represent increasment periods only between halving date and ath date. We didn't examine bear market because for us corrections which are in bull market, are important.\n",
    "\n",
    "\n",
    "2012-12-03 : 2013-11-30 --> Increasment Period \n",
    "2016-07-11 : 2017-12-17 --> Increasment Period\n"
   ]
  },
  {
   "cell_type": "code",
   "execution_count": 13,
   "metadata": {},
   "outputs": [],
   "source": [
    "firstInc  = df_daily.loc[\"2012-12-03\" : \"2013-11-30\"]\n",
    "secondInc = df_daily.loc[\"2016-07-11\" : \"2017-12-17\"]\n",
    "#thirdInc  = df_daily.loc[\"2018-12-16\" : \"2019-06-26\"]\n",
    "#fourthInc = df_daily.loc[\"2020-03-12\" : \"2020-09-14\"]\n",
    "\n",
    "firstInc =firstInc.rename(  columns ={\"min\": \"Low\", \"max\": \"High\"})\n",
    "secondInc=secondInc.rename( columns={\"min\": \"Low\", \"max\": \"High\"})\n",
    "#thirdInc =thirdInc.rename(  columns ={\"min\": \"Low\", \"max\": \"High\"})\n",
    "#fourthInc=fourthInc.rename( columns={\"min\": \"Low\", \"max\": \"High\"})\n",
    "\n",
    "season = pd.concat([firstInc,secondInc],axis=0)\n",
    "season =season.rename(columns={\"min\": \"Low\", \"max\": \"High\"})"
   ]
  },
  {
   "cell_type": "code",
   "execution_count": 14,
   "metadata": {},
   "outputs": [
    {
     "data": {
      "text/html": [
       "<div>\n",
       "<style scoped>\n",
       "    .dataframe tbody tr th:only-of-type {\n",
       "        vertical-align: middle;\n",
       "    }\n",
       "\n",
       "    .dataframe tbody tr th {\n",
       "        vertical-align: top;\n",
       "    }\n",
       "\n",
       "    .dataframe thead th {\n",
       "        text-align: right;\n",
       "    }\n",
       "</style>\n",
       "<table border=\"1\" class=\"dataframe\">\n",
       "  <thead>\n",
       "    <tr style=\"text-align: right;\">\n",
       "      <th></th>\n",
       "      <th>Low</th>\n",
       "      <th>High</th>\n",
       "      <th>Close</th>\n",
       "    </tr>\n",
       "    <tr>\n",
       "      <th>date</th>\n",
       "      <th></th>\n",
       "      <th></th>\n",
       "      <th></th>\n",
       "    </tr>\n",
       "  </thead>\n",
       "  <tbody>\n",
       "    <tr>\n",
       "      <td>2012-12-03 00:00:00+00:00</td>\n",
       "      <td>12.32</td>\n",
       "      <td>12.47</td>\n",
       "      <td>12.46</td>\n",
       "    </tr>\n",
       "    <tr>\n",
       "      <td>2012-12-04 00:00:00+00:00</td>\n",
       "      <td>12.38</td>\n",
       "      <td>12.78</td>\n",
       "      <td>12.77</td>\n",
       "    </tr>\n",
       "    <tr>\n",
       "      <td>2012-12-05 00:00:00+00:00</td>\n",
       "      <td>12.54</td>\n",
       "      <td>13.29</td>\n",
       "      <td>13.29</td>\n",
       "    </tr>\n",
       "    <tr>\n",
       "      <td>2012-12-06 00:00:00+00:00</td>\n",
       "      <td>13.05</td>\n",
       "      <td>13.59</td>\n",
       "      <td>13.08</td>\n",
       "    </tr>\n",
       "    <tr>\n",
       "      <td>2012-12-07 00:00:00+00:00</td>\n",
       "      <td>13.02</td>\n",
       "      <td>13.56</td>\n",
       "      <td>13.30</td>\n",
       "    </tr>\n",
       "  </tbody>\n",
       "</table>\n",
       "</div>"
      ],
      "text/plain": [
       "                             Low   High  Close\n",
       "date                                          \n",
       "2012-12-03 00:00:00+00:00  12.32  12.47  12.46\n",
       "2012-12-04 00:00:00+00:00  12.38  12.78  12.77\n",
       "2012-12-05 00:00:00+00:00  12.54  13.29  13.29\n",
       "2012-12-06 00:00:00+00:00  13.05  13.59  13.08\n",
       "2012-12-07 00:00:00+00:00  13.02  13.56  13.30"
      ]
     },
     "execution_count": 14,
     "metadata": {},
     "output_type": "execute_result"
    }
   ],
   "source": [
    "season.head()"
   ]
  },
  {
   "cell_type": "markdown",
   "metadata": {},
   "source": [
    "### Algorithm"
   ]
  },
  {
   "cell_type": "code",
   "execution_count": 15,
   "metadata": {},
   "outputs": [],
   "source": [
    "def calculate(season): \n",
    "    \n",
    "    global k\n",
    "    bottomPrice  = 10000000000    \n",
    "    peakPrice   = season[\"Close\"][0]\n",
    "    peakDayDate = season.index[0]\n",
    "    i = 0\n",
    "\n",
    "    corrections = {\"Peak Date\":[],\"Peak Price\":[],\"Bottom Date\":[], \"Bottom Price\" : [] , \"Correction Percentage\":[] , \"Correction Duration\":[], \"Recovery Duration\":[] ,\"Peak Date2\" :[]}\n",
    "\n",
    "\n",
    "    for x in range(len(season)-2):\n",
    "\n",
    "        nextDayDate  = season.index[1 + i]\n",
    "        nextDayPrice = season.iloc[1 + i]\n",
    "\n",
    "        if peakPrice >= nextDayPrice[\"High\"]:      \n",
    "\n",
    "            if bottomPrice > nextDayPrice[\"Low\"]:\n",
    "\n",
    "                bottomPrice = nextDayPrice[\"Low\"]\n",
    "                bottomDate  = nextDayDate\n",
    "\n",
    "\n",
    "        else:\n",
    "\n",
    "            if (((peakPrice - bottomPrice) /peakPrice))*100 > 15:\n",
    "                correc = (((peakPrice - bottomPrice) / peakPrice))*100\n",
    "                corrections[\"Peak Date\"].append('{0:%Y}-{0:%m}-{0:%d} {0:%H}:{0:%M}'.format(peakDayDate, \"year\",\"month\",\"day\",\"hour\",\"minute\"))\n",
    "                corrections[\"Peak Date2\"].append(peakDayDate)\n",
    "                corrections[\"Peak Price\"].append(peakPrice)\n",
    "                corrections[\"Bottom Date\"].append('{0:%Y}-{0:%m}-{0:%d} {0:%H}:{0:%M}'.format(bottomDate, \"year\",\"month\",\"day\",\"hour\",\"minute\"))\n",
    "                corrections[\"Bottom Price\"].append(bottomPrice)\n",
    "                corrections[\"Correction Percentage\"].append(correc)\n",
    "                duration = bottomDate - peakDayDate\n",
    "                corrections[\"Correction Duration\"].append(duration)\n",
    "                corrections[\"Recovery Duration\"].append(nextDayDate - 1)\n",
    "\n",
    "            peakPrice  = nextDayPrice[\"High\"]\n",
    "            peakDayDate= nextDayDate\n",
    "            bottomPrice = 10000000\n",
    "\n",
    "\n",
    "        i = i + 1\n",
    "    for i in range(len(corrections[\"Peak Date\"])):\n",
    "        \n",
    "        \n",
    "        print(\"%d- Peak Date : %s --> Bottom Date : %s \\n    Peak Price : %f      --> Bottom Price : %f  \\n    Correction Percentage : %f   \\n    Correction Duration : %s Days     Recovery Duration : %s Days \"\n",
    "              %(k,corrections[\"Peak Date\"][i],corrections[\"Bottom Date\"][i],corrections[\"Peak Price\"][i],corrections[\"Bottom Price\"][i],corrections[\"Correction Percentage\"][i],corrections[\"Correction Duration\"][i].days,(corrections[\"Recovery Duration\"][i] - corrections[\"Peak Date2\"][i]).days))\n",
    "        \n",
    "            \n",
    "        print(\"=\"*68)\n",
    "        \n",
    "        \n",
    "        k = k +1\n",
    "        \n",
    "    return corrections\n"
   ]
  },
  {
   "cell_type": "markdown",
   "metadata": {},
   "source": [
    "# We Get the Results Here"
   ]
  },
  {
   "cell_type": "code",
   "execution_count": 16,
   "metadata": {},
   "outputs": [
    {
     "name": "stdout",
     "output_type": "stream",
     "text": [
      "1- Peak Date : 2013-03-07 00:00 --> Bottom Date : 2013-03-12 00:00 \n",
      "    Peak Price : 49.170000      --> Bottom Price : 36.000000  \n",
      "    Correction Percentage : 26.784625   \n",
      "    Correction Duration : 5 Days     Recovery Duration : 11 Days \n",
      "====================================================================\n",
      "2- Peak Date : 2013-03-22 00:00 --> Bottom Date : 2013-03-23 00:00 \n",
      "    Peak Price : 76.910000      --> Bottom Price : 50.090000  \n",
      "    Correction Percentage : 34.871928   \n",
      "    Correction Duration : 1 Days     Recovery Duration : 3 Days \n",
      "====================================================================\n",
      "3- Peak Date : 2013-03-26 00:00 --> Bottom Date : 2013-03-27 00:00 \n",
      "    Peak Price : 100.000000      --> Bottom Price : 77.890000  \n",
      "    Correction Percentage : 22.110000   \n",
      "    Correction Duration : 1 Days     Recovery Duration : 5 Days \n",
      "====================================================================\n",
      "4- Peak Date : 2013-04-03 00:00 --> Bottom Date : 2013-04-04 00:00 \n",
      "    Peak Price : 158.410000      --> Bottom Price : 110.000000  \n",
      "    Correction Percentage : 30.559939   \n",
      "    Correction Duration : 1 Days     Recovery Duration : 1 Days \n",
      "====================================================================\n",
      "5- Peak Date : 2013-04-05 00:00 --> Bottom Date : 2013-04-06 00:00 \n",
      "    Peak Price : 200.000000      --> Bottom Price : 127.090000  \n",
      "    Correction Percentage : 36.455000   \n",
      "    Correction Duration : 1 Days     Recovery Duration : 3 Days \n",
      "====================================================================\n",
      "6- Peak Date : 2013-04-10 00:00 --> Bottom Date : 2013-04-12 00:00 \n",
      "    Peak Price : 259.340000      --> Bottom Price : 45.000000  \n",
      "    Correction Percentage : 82.648261   \n",
      "    Correction Duration : 2 Days     Recovery Duration : 209 Days \n",
      "====================================================================\n",
      "7- Peak Date : 2013-11-09 00:00 --> Bottom Date : 2013-11-11 00:00 \n",
      "    Peak Price : 363.650000      --> Bottom Price : 265.010000  \n",
      "    Correction Percentage : 27.124983   \n",
      "    Correction Duration : 2 Days     Recovery Duration : 3 Days \n",
      "====================================================================\n",
      "8- Peak Date : 2013-11-19 00:00 --> Bottom Date : 2013-11-20 00:00 \n",
      "    Peak Price : 755.000000      --> Bottom Price : 440.000000  \n",
      "    Correction Percentage : 41.721854   \n",
      "    Correction Duration : 1 Days     Recovery Duration : 2 Days \n",
      "====================================================================\n",
      "9- Peak Date : 2016-07-18 00:00 --> Bottom Date : 2016-08-03 00:00 \n",
      "    Peak Price : 684.190000      --> Bottom Price : 465.280000  \n",
      "    Correction Percentage : 31.995498   \n",
      "    Correction Duration : 16 Days     Recovery Duration : 100 Days \n",
      "====================================================================\n",
      "10- Peak Date : 2017-01-05 00:00 --> Bottom Date : 2017-01-12 00:00 \n",
      "    Peak Price : 1139.890000      --> Bottom Price : 751.340000  \n",
      "    Correction Percentage : 34.086622   \n",
      "    Correction Duration : 7 Days     Recovery Duration : 48 Days \n",
      "====================================================================\n",
      "11- Peak Date : 2017-03-10 00:00 --> Bottom Date : 2017-03-25 00:00 \n",
      "    Peak Price : 1350.000000      --> Bottom Price : 891.330000  \n",
      "    Correction Percentage : 33.975556   \n",
      "    Correction Duration : 15 Days     Recovery Duration : 51 Days \n",
      "====================================================================\n",
      "12- Peak Date : 2017-05-11 00:00 --> Bottom Date : 2017-05-13 00:00 \n",
      "    Peak Price : 1892.000000      --> Bottom Price : 1601.460000  \n",
      "    Correction Percentage : 15.356237   \n",
      "    Correction Duration : 2 Days     Recovery Duration : 7 Days \n",
      "====================================================================\n",
      "13- Peak Date : 2017-05-25 00:00 --> Bottom Date : 2017-05-27 00:00 \n",
      "    Peak Price : 2760.100000      --> Bottom Price : 1850.000000  \n",
      "    Correction Percentage : 32.973443   \n",
      "    Correction Duration : 2 Days     Recovery Duration : 11 Days \n",
      "====================================================================\n",
      "14- Peak Date : 2017-06-12 00:00 --> Bottom Date : 2017-07-16 00:00 \n",
      "    Peak Price : 2980.000000      --> Bottom Price : 1830.000000  \n",
      "    Correction Percentage : 38.590604   \n",
      "    Correction Duration : 34 Days     Recovery Duration : 53 Days \n",
      "====================================================================\n",
      "15- Peak Date : 2017-08-17 00:00 --> Bottom Date : 2017-08-22 00:00 \n",
      "    Peak Price : 4480.000000      --> Bottom Price : 3600.000000  \n",
      "    Correction Percentage : 19.642857   \n",
      "    Correction Duration : 5 Days     Recovery Duration : 11 Days \n",
      "====================================================================\n",
      "16- Peak Date : 2017-09-02 00:00 --> Bottom Date : 2017-09-15 00:00 \n",
      "    Peak Price : 4979.900000      --> Bottom Price : 2972.010000  \n",
      "    Correction Percentage : 40.319886   \n",
      "    Correction Duration : 13 Days     Recovery Duration : 39 Days \n",
      "====================================================================\n",
      "17- Peak Date : 2017-11-09 00:00 --> Bottom Date : 2017-11-12 00:00 \n",
      "    Peak Price : 7888.000000      --> Bottom Price : 5555.550000  \n",
      "    Correction Percentage : 29.569599   \n",
      "    Correction Duration : 3 Days     Recovery Duration : 7 Days \n",
      "====================================================================\n",
      "18- Peak Date : 2017-11-29 00:00 --> Bottom Date : 2017-11-30 00:00 \n",
      "    Peak Price : 11395.000000      --> Bottom Price : 9000.000000  \n",
      "    Correction Percentage : 21.017990   \n",
      "    Correction Duration : 1 Days     Recovery Duration : 3 Days \n",
      "====================================================================\n",
      "19- Peak Date : 2017-12-08 00:00 --> Bottom Date : 2017-12-10 00:00 \n",
      "    Peak Price : 16666.660000      --> Bottom Price : 12701.050000  \n",
      "    Correction Percentage : 23.793670   \n",
      "    Correction Duration : 2 Days     Recovery Duration : 3 Days \n",
      "====================================================================\n"
     ]
    },
    {
     "name": "stderr",
     "output_type": "stream",
     "text": [
      "D:\\ProgramFiles\\lib\\site-packages\\ipykernel_launcher.py:37: FutureWarning: Addition/subtraction of integers and integer-arrays to Timestamp is deprecated, will be removed in a future version.  Instead of adding/subtracting `n`, use `n * self.freq`\n"
     ]
    }
   ],
   "source": [
    "k = 1\n",
    "first = calculate(firstInc)\n",
    "second = calculate(secondInc)\n",
    "#third = calculate(thirdInc)\n",
    "#fourth = calculate(fourthInc)"
   ]
  },
  {
   "cell_type": "markdown",
   "metadata": {},
   "source": [
    "## Percentage Graph of Corrections"
   ]
  },
  {
   "cell_type": "code",
   "execution_count": 19,
   "metadata": {},
   "outputs": [],
   "source": [
    "first_graph = pd.DataFrame.from_dict(first)\n",
    "second_graph = pd.DataFrame.from_dict(second)\n",
    "#third_graph = pd.DataFrame.from_dict(third)\n",
    "#fourth_graph = pd.DataFrame.from_dict(fourth)\n",
    "\n",
    "correction_Graph = pd.concat([first_graph,second_graph],axis=0)\n",
    "correction_Graph[\"Peak Date\"] = correction_Graph[\"Peak Date\"].apply(lambda x: x.split(\" \")[0])\n",
    "\n",
    "\n",
    "correction_Graph[\"Peak Date\"] = correction_Graph[\"Peak Date\"].apply(pd.Timestamp)\n",
    "correction_Graph = correction_Graph.set_index(\"Peak Date\")"
   ]
  },
  {
   "cell_type": "code",
   "execution_count": 20,
   "metadata": {},
   "outputs": [
    {
     "name": "stderr",
     "output_type": "stream",
     "text": [
      "D:\\ProgramFiles\\lib\\site-packages\\pandas\\plotting\\_matplotlib\\converter.py:103: FutureWarning: Using an implicitly registered datetime converter for a matplotlib plotting method. The converter was registered by pandas on import. Future versions of pandas will require you to explicitly register matplotlib converters.\n",
      "\n",
      "To register the converters:\n",
      "\t>>> from pandas.plotting import register_matplotlib_converters\n",
      "\t>>> register_matplotlib_converters()\n",
      "  warnings.warn(msg, FutureWarning)\n"
     ]
    },
    {
     "data": {
      "image/png": "[encoded data removed]",
      "text/plain": [
       "<Figure size 1440x432 with 1 Axes>"
      ]
     },
     "metadata": {
      "needs_background": "light"
     },
     "output_type": "display_data"
    }
   ],
   "source": [
    "plt.subplots(figsize=(20,6))\n",
    "plt.xticks(rotation=45)\n",
    "line = sns.lineplot(data=correction_Graph, x=correction_Graph.index, y=\"Correction Percentage\", marker=\"o\")"
   ]
  },
  {
   "cell_type": "code",
   "execution_count": null,
   "metadata": {},
   "outputs": [],
   "source": []
  }
 ],
 "metadata": {
  "kernelspec": {
   "display_name": "Python 3",
   "language": "python",
   "name": "python3"
  },
  "language_info": {
   "codemirror_mode": {
    "name": "ipython",
    "version": 3
   },
   "file_extension": ".py",
   "mimetype": "text/x-python",
   "name": "python",
   "nbconvert_exporter": "python",
   "pygments_lexer": "ipython3",
   "version": "3.7.4"
  }
 },
 "nbformat": 4,
 "nbformat_minor": 2
}
